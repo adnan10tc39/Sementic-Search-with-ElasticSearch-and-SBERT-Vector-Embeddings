{
 "cells": [
  {
   "cell_type": "code",
   "execution_count": 2,
   "metadata": {},
   "outputs": [],
   "source": [
    "from elasticsearch import Elasticsearch"
   ]
  },
  {
   "cell_type": "code",
   "execution_count": 118,
   "metadata": {},
   "outputs": [
    {
     "data": {
      "text/plain": [
       "True"
      ]
     },
     "execution_count": 118,
     "metadata": {},
     "output_type": "execute_result"
    }
   ],
   "source": [
    "es = Elasticsearch(\n",
    "    \"https://192.168.18.136:9200\",\n",
    "    basic_auth=(\"elastic\",\"FIRpdx+ua5jlE0K6Q3fs\"),\n",
    "    ca_certs=\"http_ca.crt\"\n",
    ")\n",
    "es.ping()"
   ]
  },
  {
   "cell_type": "markdown",
   "metadata": {},
   "source": [
    "## Prepare the data"
   ]
  },
  {
   "cell_type": "code",
   "execution_count": 119,
   "metadata": {},
   "outputs": [
    {
     "data": {
      "text/html": [
       "<div>\n",
       "<style scoped>\n",
       "    .dataframe tbody tr th:only-of-type {\n",
       "        vertical-align: middle;\n",
       "    }\n",
       "\n",
       "    .dataframe tbody tr th {\n",
       "        vertical-align: top;\n",
       "    }\n",
       "\n",
       "    .dataframe thead th {\n",
       "        text-align: right;\n",
       "    }\n",
       "</style>\n",
       "<table border=\"1\" class=\"dataframe\">\n",
       "  <thead>\n",
       "    <tr style=\"text-align: right;\">\n",
       "      <th></th>\n",
       "      <th>ProductID</th>\n",
       "      <th>ProductName</th>\n",
       "      <th>ProductBrand</th>\n",
       "      <th>Gender</th>\n",
       "      <th>Price (INR)</th>\n",
       "      <th>NumImages</th>\n",
       "      <th>Description</th>\n",
       "      <th>PrimaryColor</th>\n",
       "    </tr>\n",
       "  </thead>\n",
       "  <tbody>\n",
       "    <tr>\n",
       "      <th>0</th>\n",
       "      <td>10017413</td>\n",
       "      <td>DKNY Unisex Black &amp; Grey Printed Medium Trolle...</td>\n",
       "      <td>DKNY</td>\n",
       "      <td>Unisex</td>\n",
       "      <td>11745</td>\n",
       "      <td>7</td>\n",
       "      <td>Black and grey printed medium trolley bag, sec...</td>\n",
       "      <td>Black</td>\n",
       "    </tr>\n",
       "    <tr>\n",
       "      <th>1</th>\n",
       "      <td>10016283</td>\n",
       "      <td>EthnoVogue Women Beige &amp; Grey Made to Measure ...</td>\n",
       "      <td>EthnoVogue</td>\n",
       "      <td>Women</td>\n",
       "      <td>5810</td>\n",
       "      <td>7</td>\n",
       "      <td>Beige &amp; Grey made to measure kurta with churid...</td>\n",
       "      <td>Beige</td>\n",
       "    </tr>\n",
       "    <tr>\n",
       "      <th>2</th>\n",
       "      <td>10009781</td>\n",
       "      <td>SPYKAR Women Pink Alexa Super Skinny Fit High-...</td>\n",
       "      <td>SPYKAR</td>\n",
       "      <td>Women</td>\n",
       "      <td>899</td>\n",
       "      <td>7</td>\n",
       "      <td>Pink coloured wash 5-pocket high-rise cropped ...</td>\n",
       "      <td>Pink</td>\n",
       "    </tr>\n",
       "    <tr>\n",
       "      <th>3</th>\n",
       "      <td>10015921</td>\n",
       "      <td>Raymond Men Blue Self-Design Single-Breasted B...</td>\n",
       "      <td>Raymond</td>\n",
       "      <td>Men</td>\n",
       "      <td>5599</td>\n",
       "      <td>5</td>\n",
       "      <td>Blue self-design bandhgala suitBlue self-desig...</td>\n",
       "      <td>Blue</td>\n",
       "    </tr>\n",
       "    <tr>\n",
       "      <th>4</th>\n",
       "      <td>10017833</td>\n",
       "      <td>Parx Men Brown &amp; Off-White Slim Fit Printed Ca...</td>\n",
       "      <td>Parx</td>\n",
       "      <td>Men</td>\n",
       "      <td>759</td>\n",
       "      <td>5</td>\n",
       "      <td>Brown and off-white printed casual shirt, has ...</td>\n",
       "      <td>White</td>\n",
       "    </tr>\n",
       "  </tbody>\n",
       "</table>\n",
       "</div>"
      ],
      "text/plain": [
       "   ProductID                                        ProductName ProductBrand  \\\n",
       "0   10017413  DKNY Unisex Black & Grey Printed Medium Trolle...         DKNY   \n",
       "1   10016283  EthnoVogue Women Beige & Grey Made to Measure ...   EthnoVogue   \n",
       "2   10009781  SPYKAR Women Pink Alexa Super Skinny Fit High-...       SPYKAR   \n",
       "3   10015921  Raymond Men Blue Self-Design Single-Breasted B...      Raymond   \n",
       "4   10017833  Parx Men Brown & Off-White Slim Fit Printed Ca...         Parx   \n",
       "\n",
       "   Gender  Price (INR)  NumImages  \\\n",
       "0  Unisex        11745          7   \n",
       "1   Women         5810          7   \n",
       "2   Women          899          7   \n",
       "3     Men         5599          5   \n",
       "4     Men          759          5   \n",
       "\n",
       "                                         Description PrimaryColor  \n",
       "0  Black and grey printed medium trolley bag, sec...        Black  \n",
       "1  Beige & Grey made to measure kurta with churid...        Beige  \n",
       "2  Pink coloured wash 5-pocket high-rise cropped ...         Pink  \n",
       "3  Blue self-design bandhgala suitBlue self-desig...         Blue  \n",
       "4  Brown and off-white printed casual shirt, has ...        White  "
      ]
     },
     "execution_count": 119,
     "metadata": {},
     "output_type": "execute_result"
    }
   ],
   "source": [
    "import pandas as pd\n",
    "\n",
    "df = pd.read_csv(\"myntra_products_catalog.csv\").loc[:499]\n",
    "df.head()"
   ]
  },
  {
   "cell_type": "code",
   "execution_count": 122,
   "metadata": {},
   "outputs": [
    {
     "data": {
      "text/plain": [
       "ProductID  ProductName  ProductBrand  Gender  Price (INR)  NumImages  Description  PrimaryColor\n",
       "False      False        False         False   False        False      False        False           500\n",
       "Name: count, dtype: int64"
      ]
     },
     "execution_count": 122,
     "metadata": {},
     "output_type": "execute_result"
    }
   ],
   "source": [
    "df.isna().value_counts()"
   ]
  },
  {
   "cell_type": "code",
   "execution_count": 123,
   "metadata": {},
   "outputs": [],
   "source": [
    "df.fillna(\"None\", inplace=True) #None is liay k elastic by default ye value laita hai"
   ]
  },
  {
   "cell_type": "markdown",
   "metadata": {},
   "source": [
    "## Convert the relevant field to Vector using BERT model"
   ]
  },
  {
   "cell_type": "code",
   "execution_count": 124,
   "metadata": {},
   "outputs": [],
   "source": [
    "from sentence_transformers import SentenceTransformer\n",
    "model = SentenceTransformer('all-mpnet-base-v2')"
   ]
  },
  {
   "cell_type": "code",
   "execution_count": 125,
   "metadata": {},
   "outputs": [],
   "source": [
    "df[\"DescriptionVector\"] = df[\"Description\"].apply(lambda x: model.encode(x))"
   ]
  },
  {
   "cell_type": "code",
   "execution_count": 126,
   "metadata": {},
   "outputs": [
    {
     "data": {
      "text/html": [
       "<div>\n",
       "<style scoped>\n",
       "    .dataframe tbody tr th:only-of-type {\n",
       "        vertical-align: middle;\n",
       "    }\n",
       "\n",
       "    .dataframe tbody tr th {\n",
       "        vertical-align: top;\n",
       "    }\n",
       "\n",
       "    .dataframe thead th {\n",
       "        text-align: right;\n",
       "    }\n",
       "</style>\n",
       "<table border=\"1\" class=\"dataframe\">\n",
       "  <thead>\n",
       "    <tr style=\"text-align: right;\">\n",
       "      <th></th>\n",
       "      <th>ProductID</th>\n",
       "      <th>ProductName</th>\n",
       "      <th>ProductBrand</th>\n",
       "      <th>Gender</th>\n",
       "      <th>Price (INR)</th>\n",
       "      <th>NumImages</th>\n",
       "      <th>Description</th>\n",
       "      <th>PrimaryColor</th>\n",
       "      <th>DescriptionVector</th>\n",
       "    </tr>\n",
       "  </thead>\n",
       "  <tbody>\n",
       "    <tr>\n",
       "      <th>0</th>\n",
       "      <td>10017413</td>\n",
       "      <td>DKNY Unisex Black &amp; Grey Printed Medium Trolle...</td>\n",
       "      <td>DKNY</td>\n",
       "      <td>Unisex</td>\n",
       "      <td>11745</td>\n",
       "      <td>7</td>\n",
       "      <td>Black and grey printed medium trolley bag, sec...</td>\n",
       "      <td>Black</td>\n",
       "      <td>[0.027645754, -0.002634158, -0.0035884678, 0.0...</td>\n",
       "    </tr>\n",
       "    <tr>\n",
       "      <th>1</th>\n",
       "      <td>10016283</td>\n",
       "      <td>EthnoVogue Women Beige &amp; Grey Made to Measure ...</td>\n",
       "      <td>EthnoVogue</td>\n",
       "      <td>Women</td>\n",
       "      <td>5810</td>\n",
       "      <td>7</td>\n",
       "      <td>Beige &amp; Grey made to measure kurta with churid...</td>\n",
       "      <td>Beige</td>\n",
       "      <td>[-0.024660703, -0.028755417, -0.020332463, 0.0...</td>\n",
       "    </tr>\n",
       "    <tr>\n",
       "      <th>2</th>\n",
       "      <td>10009781</td>\n",
       "      <td>SPYKAR Women Pink Alexa Super Skinny Fit High-...</td>\n",
       "      <td>SPYKAR</td>\n",
       "      <td>Women</td>\n",
       "      <td>899</td>\n",
       "      <td>7</td>\n",
       "      <td>Pink coloured wash 5-pocket high-rise cropped ...</td>\n",
       "      <td>Pink</td>\n",
       "      <td>[-0.04694326, 0.08182789, 0.048335202, -0.0001...</td>\n",
       "    </tr>\n",
       "    <tr>\n",
       "      <th>3</th>\n",
       "      <td>10015921</td>\n",
       "      <td>Raymond Men Blue Self-Design Single-Breasted B...</td>\n",
       "      <td>Raymond</td>\n",
       "      <td>Men</td>\n",
       "      <td>5599</td>\n",
       "      <td>5</td>\n",
       "      <td>Blue self-design bandhgala suitBlue self-desig...</td>\n",
       "      <td>Blue</td>\n",
       "      <td>[-0.015098771, -0.010285473, 0.009487319, -0.0...</td>\n",
       "    </tr>\n",
       "    <tr>\n",
       "      <th>4</th>\n",
       "      <td>10017833</td>\n",
       "      <td>Parx Men Brown &amp; Off-White Slim Fit Printed Ca...</td>\n",
       "      <td>Parx</td>\n",
       "      <td>Men</td>\n",
       "      <td>759</td>\n",
       "      <td>5</td>\n",
       "      <td>Brown and off-white printed casual shirt, has ...</td>\n",
       "      <td>White</td>\n",
       "      <td>[-0.017746478, 0.0062095774, 0.021813959, 0.02...</td>\n",
       "    </tr>\n",
       "  </tbody>\n",
       "</table>\n",
       "</div>"
      ],
      "text/plain": [
       "   ProductID                                        ProductName ProductBrand  \\\n",
       "0   10017413  DKNY Unisex Black & Grey Printed Medium Trolle...         DKNY   \n",
       "1   10016283  EthnoVogue Women Beige & Grey Made to Measure ...   EthnoVogue   \n",
       "2   10009781  SPYKAR Women Pink Alexa Super Skinny Fit High-...       SPYKAR   \n",
       "3   10015921  Raymond Men Blue Self-Design Single-Breasted B...      Raymond   \n",
       "4   10017833  Parx Men Brown & Off-White Slim Fit Printed Ca...         Parx   \n",
       "\n",
       "   Gender  Price (INR)  NumImages  \\\n",
       "0  Unisex        11745          7   \n",
       "1   Women         5810          7   \n",
       "2   Women          899          7   \n",
       "3     Men         5599          5   \n",
       "4     Men          759          5   \n",
       "\n",
       "                                         Description PrimaryColor  \\\n",
       "0  Black and grey printed medium trolley bag, sec...        Black   \n",
       "1  Beige & Grey made to measure kurta with churid...        Beige   \n",
       "2  Pink coloured wash 5-pocket high-rise cropped ...         Pink   \n",
       "3  Blue self-design bandhgala suitBlue self-desig...         Blue   \n",
       "4  Brown and off-white printed casual shirt, has ...        White   \n",
       "\n",
       "                                   DescriptionVector  \n",
       "0  [0.027645754, -0.002634158, -0.0035884678, 0.0...  \n",
       "1  [-0.024660703, -0.028755417, -0.020332463, 0.0...  \n",
       "2  [-0.04694326, 0.08182789, 0.048335202, -0.0001...  \n",
       "3  [-0.015098771, -0.010285473, 0.009487319, -0.0...  \n",
       "4  [-0.017746478, 0.0062095774, 0.021813959, 0.02...  "
      ]
     },
     "execution_count": 126,
     "metadata": {},
     "output_type": "execute_result"
    }
   ],
   "source": [
    "df.head()"
   ]
  },
  {
   "cell_type": "code",
   "execution_count": 127,
   "metadata": {},
   "outputs": [
    {
     "data": {
      "text/plain": [
       "True"
      ]
     },
     "execution_count": 127,
     "metadata": {},
     "output_type": "execute_result"
    }
   ],
   "source": [
    "es.ping()"
   ]
  },
  {
   "cell_type": "code",
   "execution_count": 128,
   "metadata": {},
   "outputs": [],
   "source": [
    "# es.indices.delete(index='all_products') #delete previous index if present"
   ]
  },
  {
   "cell_type": "markdown",
   "metadata": {},
   "source": [
    "## Create new index in ElasticSearch!"
   ]
  },
  {
   "cell_type": "code",
   "execution_count": 129,
   "metadata": {},
   "outputs": [
    {
     "data": {
      "text/plain": [
       "ObjectApiResponse({'acknowledged': True, 'shards_acknowledged': True, 'index': 'all_products'})"
      ]
     },
     "execution_count": 129,
     "metadata": {},
     "output_type": "execute_result"
    }
   ],
   "source": [
    "from indexMapping import indexMapping\n",
    "\n",
    "es.indices.create(index=\"all_products\", mappings=indexMapping)"
   ]
  },
  {
   "cell_type": "markdown",
   "metadata": {},
   "source": [
    "## Ingest the data into index"
   ]
  },
  {
   "cell_type": "code",
   "execution_count": 130,
   "metadata": {},
   "outputs": [],
   "source": [
    "record_list = df.to_dict(\"records\") #for one record"
   ]
  },
  {
   "cell_type": "code",
   "execution_count": 131,
   "metadata": {},
   "outputs": [
    {
     "data": {
      "text/plain": [
       "{'ProductID': 10017413,\n",
       " 'ProductName': 'DKNY Unisex Black & Grey Printed Medium Trolley Bag',\n",
       " 'ProductBrand': 'DKNY',\n",
       " 'Gender': 'Unisex',\n",
       " 'Price (INR)': 11745,\n",
       " 'NumImages': 7,\n",
       " 'Description': 'Black and grey printed medium trolley bag, secured with a TSA lockOne handle on the top and one on the side, has a trolley with a retractable handle on the top and four corner mounted inline skate wheelsOne main zip compartment, zip lining, two compression straps with click clasps, one zip compartment on the flap with three zip pocketsWarranty: 5 yearsWarranty provided by Brand Owner / Manufacturer',\n",
       " 'PrimaryColor': ' Black',\n",
       " 'DescriptionVector': array([ 2.76457537e-02, -2.63415789e-03, -3.58846784e-03,  5.13587818e-02,\n",
       "         3.09660640e-02,  1.40507268e-02,  7.27054710e-03,  3.13871354e-02,\n",
       "        -6.23787940e-02, -3.82880215e-03,  3.15213799e-02,  7.55472854e-02,\n",
       "         2.12645670e-03,  4.64893952e-02,  5.07448539e-02, -1.71941835e-02,\n",
       "         1.22892149e-02, -1.95682291e-02, -9.64853242e-02,  3.52684082e-03,\n",
       "        -1.83509886e-02,  2.58225203e-02, -3.12243327e-02,  5.46113737e-02,\n",
       "         2.11241394e-02,  8.97156168e-03,  1.99166574e-02,  2.25222372e-02,\n",
       "         5.33215888e-03, -5.24597652e-02,  2.56655067e-02, -2.64643915e-02,\n",
       "         1.60459206e-02, -2.47584172e-02,  1.45433410e-06, -5.99339157e-02,\n",
       "        -4.21297997e-02, -5.82056632e-03, -1.85586642e-02, -6.88409060e-02,\n",
       "         4.52963561e-02,  7.06154667e-03,  3.00954711e-02, -7.18990639e-02,\n",
       "         2.67853420e-02, -6.78084642e-02,  1.52006755e-02,  7.82433972e-02,\n",
       "        -3.86550091e-02, -1.53426491e-02,  3.39755975e-02,  1.37782209e-02,\n",
       "        -1.47243310e-02, -2.74835038e-03,  2.31591836e-02, -4.98685017e-02,\n",
       "        -5.12828445e-03,  5.24752252e-02,  1.36131262e-02, -1.93231441e-02,\n",
       "        -2.72569936e-02,  4.11068164e-02,  4.80893366e-02, -2.70954482e-02,\n",
       "         4.11908887e-02,  4.60447595e-02, -6.37176931e-02,  1.31805036e-02,\n",
       "         1.30294089e-03,  4.09116782e-02,  6.41553104e-02, -4.79834005e-02,\n",
       "         1.10398128e-03,  7.25233853e-02, -7.42327611e-05,  2.57202797e-03,\n",
       "         2.96354685e-02,  2.96354070e-02,  1.66540183e-02,  1.16769699e-02,\n",
       "        -4.72042337e-02,  6.52726293e-02, -5.69467172e-02,  5.62868454e-02,\n",
       "         2.87739933e-02,  3.27831656e-02,  2.21507624e-02,  2.87625398e-02,\n",
       "         9.41020809e-03, -2.78682224e-02,  5.07254712e-03, -1.35145960e-02,\n",
       "         2.92994156e-02,  1.73486695e-02, -7.76378624e-03, -8.01694319e-02,\n",
       "         5.42522967e-02, -5.81911914e-02,  3.02955415e-02, -2.88304109e-02,\n",
       "         1.04824863e-02,  4.99631800e-02, -1.98193453e-02,  2.69685569e-03,\n",
       "        -5.78298466e-03,  3.49554941e-02, -1.04185119e-02, -1.53065217e-03,\n",
       "        -8.06272104e-02,  3.73889692e-02,  2.62705442e-02, -2.40432769e-02,\n",
       "        -4.65659462e-02,  3.46576981e-02, -3.50580253e-02,  2.76909489e-02,\n",
       "        -1.99476518e-02,  2.66633891e-02,  3.83039266e-02, -3.57965869e-03,\n",
       "        -1.11199953e-02, -3.43021601e-02, -5.00615872e-02, -2.43411632e-03,\n",
       "         2.01843623e-02, -4.51828241e-02, -4.48809266e-02, -4.15879898e-02,\n",
       "        -1.21018151e-02,  4.56553958e-02, -4.09716517e-02,  3.33761610e-02,\n",
       "         4.05119322e-02, -1.42122507e-02, -2.18981095e-02,  2.38487870e-02,\n",
       "        -3.59017067e-02, -3.51187252e-02, -5.59867881e-02, -2.04212628e-02,\n",
       "        -1.90290029e-03, -2.63333526e-02,  6.62032142e-03,  2.82201990e-02,\n",
       "        -3.89378034e-02, -3.85373197e-02,  3.99999581e-02,  3.73888202e-03,\n",
       "        -3.34511027e-02, -6.12203404e-02, -7.10494220e-02,  1.82614233e-02,\n",
       "         4.99361157e-02, -1.96537953e-02,  3.62080447e-02,  1.36305569e-02,\n",
       "         3.72649357e-02, -1.86512712e-02, -2.54692975e-02,  1.35054057e-02,\n",
       "         2.56375689e-02, -2.38314681e-02, -2.21329853e-02,  2.39100121e-03,\n",
       "        -5.98022342e-02, -2.13335697e-02, -9.58662294e-03, -6.31961273e-03,\n",
       "        -3.08500770e-02, -1.75865553e-02, -1.89545900e-02, -3.34730335e-02,\n",
       "        -2.12757336e-03, -3.45620094e-03, -1.71547588e-02,  7.40247667e-02,\n",
       "         3.30877723e-03, -5.94481304e-02, -4.20914330e-02, -4.85305162e-03,\n",
       "        -1.24044521e-02, -1.11631200e-01,  5.64271696e-02, -7.50045385e-03,\n",
       "        -2.17738911e-03, -8.79485719e-03, -5.20496396e-03,  2.68777600e-03,\n",
       "        -1.67977158e-02, -6.23680279e-02,  3.14837880e-02, -3.52155678e-02,\n",
       "         8.10609534e-02,  3.64166945e-02,  9.73880000e-04, -3.69658656e-02,\n",
       "         2.52888794e-03, -7.46890381e-02,  8.42569489e-03, -1.65019464e-02,\n",
       "        -7.72046372e-02, -1.85622890e-02,  5.66546479e-03, -1.47191007e-02,\n",
       "        -1.65353641e-02,  4.13801111e-02, -2.33763661e-02,  9.85992700e-03,\n",
       "        -5.00025377e-02,  4.48242668e-03,  3.75415422e-02,  2.56805103e-02,\n",
       "        -2.02897470e-03, -5.84916584e-02, -1.47917438e-02, -1.84914842e-03,\n",
       "         2.87932809e-02, -2.44094096e-02,  1.05892867e-02,  4.51088771e-02,\n",
       "         6.12144619e-02,  1.33142816e-02,  5.87450080e-02, -1.59003790e-02,\n",
       "         4.00181338e-02,  1.64473150e-02,  1.43470401e-02, -2.68045664e-02,\n",
       "         7.16699883e-02,  8.84748250e-03, -6.41270308e-03,  1.15750020e-03,\n",
       "        -3.68433967e-02,  2.93019637e-02, -3.14093791e-02, -6.79294532e-03,\n",
       "         8.94473344e-02,  5.99377193e-02, -8.24590027e-03,  2.58782208e-02,\n",
       "        -4.22716253e-02,  1.91917047e-02,  2.88830401e-04,  4.13909461e-03,\n",
       "        -5.83746247e-02,  6.08170293e-02, -3.75355147e-02, -3.70272174e-02,\n",
       "        -6.11723168e-03, -1.42939445e-02, -8.24465416e-03,  1.60582410e-03,\n",
       "         3.51404175e-02, -1.88068040e-02, -2.16341466e-02, -5.51068485e-02,\n",
       "        -5.03742602e-03,  3.81738357e-02,  2.06449144e-02,  2.99776485e-03,\n",
       "         2.01758035e-02, -8.43664259e-03,  3.04705952e-03, -2.86365324e-03,\n",
       "         5.25487848e-02,  1.00486912e-03,  5.10405414e-02,  9.56332684e-03,\n",
       "         1.99478921e-02, -3.06443293e-02, -6.84500486e-03, -1.10092415e-02,\n",
       "         1.72650218e-02, -9.95547045e-03, -1.40040470e-02, -4.78949063e-02,\n",
       "         4.48318683e-02,  2.99808406e-03, -5.05881617e-03, -1.37886740e-02,\n",
       "        -1.93420816e-02, -2.25321911e-02, -4.01583314e-02, -2.50680018e-02,\n",
       "        -1.73990484e-02,  7.81953335e-03, -4.38655913e-02,  1.10517079e-02,\n",
       "        -5.72628807e-03,  2.99919639e-02, -4.39988896e-02, -4.39084019e-04,\n",
       "        -6.25559501e-03, -3.10895853e-02,  1.94589794e-02, -2.74247378e-02,\n",
       "        -9.93124861e-03, -4.21830006e-02,  2.52597444e-02,  2.97782961e-02,\n",
       "         4.61615995e-03, -3.88785079e-02, -3.68001312e-02,  8.19744449e-03,\n",
       "        -1.57793169e-03, -3.11236177e-03,  2.27060113e-02, -3.63274142e-02,\n",
       "        -2.32266895e-02,  3.96532454e-02, -1.75962411e-02,  7.61347264e-03,\n",
       "        -4.49806005e-02, -9.71957296e-02,  6.55063428e-03, -4.07041945e-02,\n",
       "        -4.23453785e-02,  2.21426059e-02, -1.69917252e-02,  9.62368399e-02,\n",
       "        -4.27953675e-02,  2.88662761e-02,  3.25763039e-02, -1.60414036e-02,\n",
       "        -2.20178962e-02, -4.18678634e-02, -6.52636439e-02, -2.43135728e-02,\n",
       "         3.35064530e-02, -2.17000004e-02,  4.89502512e-02, -3.22211310e-02,\n",
       "         5.66819496e-02,  3.94778438e-02, -6.04453199e-02, -8.55642185e-02,\n",
       "        -4.11012992e-02, -5.89903910e-03,  4.48788479e-02,  3.86383794e-02,\n",
       "         2.37329882e-02, -3.74439778e-03, -7.40816118e-03, -3.48128714e-02,\n",
       "        -1.26407845e-02, -8.32106844e-02, -7.77610624e-03,  8.23899987e-04,\n",
       "        -2.08235588e-02,  4.96369461e-03,  1.02757607e-02,  7.34597072e-02,\n",
       "         4.56727706e-02, -1.11290710e-02, -8.89114686e-04,  3.50867026e-02,\n",
       "        -5.21485985e-04,  3.29105966e-02,  3.92490290e-02,  9.39371809e-03,\n",
       "        -3.05088535e-02,  1.42533714e-02, -1.87779675e-04,  1.48091866e-02,\n",
       "         3.88668291e-02,  2.09766626e-02,  1.69476010e-02,  6.42410070e-02,\n",
       "         1.02789197e-02,  1.05284629e-02,  4.56123687e-02,  4.24703769e-02,\n",
       "         3.24788019e-02,  3.20181400e-02, -2.87148543e-02, -7.86704756e-03,\n",
       "         9.84600931e-03,  4.08065170e-02, -1.92639716e-02, -6.10288838e-03,\n",
       "         5.00562564e-02,  1.64055470e-02,  4.35196869e-02, -1.09658306e-02,\n",
       "         3.21553275e-02, -3.21290046e-02,  4.05226648e-03, -1.42193325e-02,\n",
       "        -1.72177590e-02, -2.24059802e-02,  3.41359489e-02,  1.79261602e-02,\n",
       "        -8.28825217e-03,  5.04023544e-02, -3.55288312e-02,  2.78953537e-02,\n",
       "         2.46794242e-03, -2.67914427e-03, -3.25404666e-02,  1.17414864e-02,\n",
       "        -2.00907420e-02,  4.24937047e-02,  3.08380108e-02,  1.66973304e-02,\n",
       "         3.07388194e-02, -4.58765142e-02, -5.39878244e-03,  1.92522444e-02,\n",
       "        -2.37641037e-02, -4.52495962e-02, -3.50062251e-02, -6.26834901e-03,\n",
       "        -3.49792577e-02,  6.37186095e-02, -4.95001525e-02, -8.27830806e-02,\n",
       "         2.43392447e-03, -7.25407749e-02,  5.77692315e-02, -3.55351195e-02,\n",
       "         1.10681390e-03,  7.00704753e-04, -2.26268079e-02,  1.01695070e-02,\n",
       "         1.71284210e-02, -1.74753722e-02, -3.18569690e-02, -6.42487407e-02,\n",
       "        -3.10206376e-02, -3.18854526e-02,  3.82462405e-02,  3.10539287e-02,\n",
       "        -2.99190562e-02,  1.83082204e-02, -5.88305108e-02, -2.38676947e-02,\n",
       "         3.73598635e-02,  2.49049254e-02, -6.08942807e-02, -8.83551221e-03,\n",
       "        -4.21162583e-02, -4.55484018e-02, -1.47924405e-02, -2.38329154e-02,\n",
       "        -4.74840542e-03, -4.89296056e-02, -1.93930250e-02, -4.01562937e-02,\n",
       "        -8.04097764e-03, -7.47549906e-02,  2.10535992e-03,  1.64750554e-02,\n",
       "         8.30393359e-02,  1.55175608e-02,  4.70302366e-02, -4.48356271e-02,\n",
       "         5.50824776e-02, -7.38568231e-02, -3.09090428e-02,  1.67554002e-02,\n",
       "         5.06773852e-02,  2.49253511e-02, -7.24061877e-02,  3.98998559e-02,\n",
       "         2.13710545e-03, -1.89518891e-02, -1.86336786e-02,  1.30079547e-02,\n",
       "         1.97984204e-02, -3.67520191e-02, -4.02528793e-02, -4.21344582e-03,\n",
       "        -1.62019562e-02, -3.34684574e-03,  4.09932621e-02, -2.45060045e-02,\n",
       "        -1.03826933e-02, -4.73152064e-02,  5.08268178e-02, -5.92380157e-03,\n",
       "        -3.16179561e-04, -6.27371296e-03,  1.60506908e-02,  1.63368303e-02,\n",
       "         2.72356179e-02,  2.05410533e-02,  2.15954985e-02, -1.16070993e-02,\n",
       "         1.46542229e-02, -5.12825362e-02,  1.71000231e-02, -6.01726100e-02,\n",
       "        -1.86471734e-02, -1.95505153e-02,  5.43011278e-02,  1.48305148e-01,\n",
       "         6.39533699e-02, -4.22864268e-03,  2.49036159e-02, -5.27663156e-02,\n",
       "         8.22670199e-03,  3.78340520e-02, -6.19614171e-03, -3.93907204e-02,\n",
       "         3.58749293e-02,  1.18882274e-02,  2.66932398e-02,  1.62879024e-02,\n",
       "         6.09422401e-02, -1.60511602e-02,  3.50190385e-04,  2.91721579e-02,\n",
       "        -7.17707351e-03, -2.95377932e-02,  6.30704984e-02,  5.02149425e-02,\n",
       "        -5.33038191e-02, -9.42943152e-03,  1.98485255e-02, -2.10123323e-02,\n",
       "         3.09327990e-02, -1.42165842e-02,  3.32838334e-02,  2.94383597e-02,\n",
       "         1.26157207e-02,  4.95138690e-02,  1.15884608e-02,  2.58322735e-03,\n",
       "         4.47753072e-02,  5.12729175e-02, -2.06902232e-02, -8.23471323e-03,\n",
       "        -7.23881042e-03,  1.32842483e-02, -5.08004539e-02,  7.57653415e-02,\n",
       "        -8.74613672e-02,  4.24297489e-02,  1.12237856e-02,  9.68475724e-05,\n",
       "        -4.58215699e-02, -1.55913653e-02,  2.53332257e-02, -5.37829706e-03,\n",
       "        -3.63478030e-04,  3.69623229e-02, -4.63642590e-02, -1.23731291e-03,\n",
       "         5.76702096e-02, -7.09539279e-02,  1.54587496e-02, -6.11974820e-02,\n",
       "        -1.10919036e-01, -3.09235486e-03,  2.27635447e-02, -4.78636651e-33,\n",
       "         3.12271081e-02, -6.63603842e-02, -2.36832444e-02,  2.42750831e-02,\n",
       "        -2.04064371e-03, -4.47730022e-03,  4.22923174e-03, -4.12162766e-03,\n",
       "        -3.53075154e-02, -2.23746747e-02,  1.80853419e-02, -3.13036283e-03,\n",
       "         3.27593572e-02,  4.38896706e-03,  6.06583506e-02,  1.11367870e-02,\n",
       "         2.70508006e-02, -7.78139196e-03, -6.00761734e-03, -2.07057353e-02,\n",
       "        -3.77762727e-02, -9.80801042e-03,  4.01680432e-02,  3.02954633e-02,\n",
       "         5.43257296e-02, -9.85897854e-02, -2.94541148e-03,  2.91571505e-02,\n",
       "         3.44494022e-02, -8.56003631e-03, -7.64997154e-02,  2.66990811e-03,\n",
       "         2.50923466e-02,  3.52499634e-02,  5.67993261e-02,  2.29065008e-02,\n",
       "         5.05905449e-02, -4.30481099e-02,  3.37688811e-02,  9.36791766e-03,\n",
       "         1.14865536e-02, -5.23018539e-02, -1.63467266e-02, -1.74134001e-02,\n",
       "        -8.21062349e-05,  6.74257381e-03, -3.11616603e-02,  3.66180725e-02,\n",
       "        -3.53261717e-02,  1.54254530e-02,  6.49726614e-02,  1.90679301e-02,\n",
       "        -2.05426179e-02, -1.29934764e-02,  3.07241753e-02,  3.60370278e-02,\n",
       "        -7.30980933e-03, -3.42608988e-02,  3.69405113e-02, -1.68614797e-02,\n",
       "        -6.95913509e-02, -3.51376049e-02, -1.96793843e-02, -2.16357671e-02,\n",
       "        -1.91740617e-02, -7.22266268e-03, -9.27112252e-03,  3.80431265e-02,\n",
       "        -7.26440921e-02, -3.93157490e-02,  3.24006251e-04, -1.54595422e-02,\n",
       "        -5.66323958e-02, -2.86028385e-02, -3.38707305e-02, -8.40223674e-03,\n",
       "         3.27711180e-02, -1.23574706e-02,  5.67502789e-02,  1.07323565e-01,\n",
       "         1.62488548e-03,  1.98507514e-02, -4.92326282e-02,  4.31434903e-03,\n",
       "        -2.76763029e-02, -3.61421332e-02,  2.83704679e-02, -3.32536139e-02,\n",
       "         6.01910539e-02,  7.16081122e-03, -3.21195424e-02,  1.00305781e-01,\n",
       "         2.48313043e-02,  3.09538301e-02, -1.87183043e-03, -1.96664389e-02,\n",
       "         2.54116468e-02,  2.17061806e-02, -1.50588220e-02,  9.17004142e-03,\n",
       "         3.92966345e-03,  5.89959770e-02, -3.26567739e-02, -7.23022372e-02,\n",
       "         4.42397855e-02, -8.09967332e-03,  3.66033539e-02, -6.47039199e-03,\n",
       "        -5.15290312e-02,  5.74738085e-02,  3.27605419e-02, -3.47869210e-02,\n",
       "         1.15353742e-03, -5.10835573e-02, -2.02768599e-03, -1.37376636e-02,\n",
       "        -2.26379838e-03, -1.46536073e-02,  2.56580226e-02, -3.41950096e-02,\n",
       "         3.11359689e-02,  1.11530609e-02, -2.26283297e-02, -1.86140824e-04,\n",
       "        -3.42383683e-02, -3.47215659e-03,  7.12009193e-03,  2.85438504e-02,\n",
       "         3.43615077e-02,  4.17477973e-02,  1.46220354e-02, -1.00901239e-02,\n",
       "         2.19874863e-07,  1.26014682e-04, -3.26404795e-02,  2.73181126e-02,\n",
       "        -4.31561619e-02,  6.41152868e-03,  3.25421221e-03,  2.88378657e-03,\n",
       "         1.68630518e-02, -3.92209552e-03, -3.99217345e-02, -2.82339454e-02,\n",
       "         6.63922681e-03,  9.65187978e-03, -6.46907720e-04,  8.58047456e-02,\n",
       "        -5.46625294e-02,  9.56461504e-02, -3.35841067e-02, -3.86989079e-02,\n",
       "         1.08061116e-02,  8.10265988e-02,  4.47365548e-03,  5.54964431e-02,\n",
       "         2.06635464e-02, -1.76942851e-02, -7.89712220e-02, -9.13335476e-03,\n",
       "        -5.91490157e-02, -1.78459007e-02, -2.83569638e-02,  2.71814633e-02,\n",
       "         2.92243958e-02, -4.04384993e-02, -2.55332701e-02,  1.53778950e-02,\n",
       "         1.23813041e-02,  2.65147556e-02,  4.36860435e-02,  7.80087486e-02,\n",
       "         1.78201944e-02, -3.01126912e-02,  1.06307250e-02, -5.10761850e-02,\n",
       "        -1.62148457e-02,  2.78101265e-02,  5.96088469e-02, -1.07442252e-02,\n",
       "         5.74155487e-02, -4.65736762e-02,  4.81009204e-03,  3.75613011e-02,\n",
       "        -2.49797925e-02,  1.24980398e-02,  3.64437513e-02, -1.03774779e-02,\n",
       "         3.94603722e-02,  5.78910857e-02, -5.18749245e-02, -1.85876898e-02,\n",
       "        -3.52989440e-03, -2.97394879e-02,  4.59078141e-02,  1.81116699e-03,\n",
       "         8.85515846e-03,  5.07806242e-02,  4.10654256e-03,  5.75009501e-03,\n",
       "         1.64168611e-34, -4.68509505e-03, -6.60452014e-03,  2.19718609e-02,\n",
       "        -4.97995280e-02,  2.23751944e-02,  8.27578944e-04,  6.58982098e-02,\n",
       "        -3.05624697e-02,  8.99443217e-03, -3.16481441e-02, -3.01022846e-02],\n",
       "       dtype=float32)}"
      ]
     },
     "execution_count": 131,
     "metadata": {},
     "output_type": "execute_result"
    }
   ],
   "source": [
    "record_list[0]"
   ]
  },
  {
   "cell_type": "code",
   "execution_count": 132,
   "metadata": {},
   "outputs": [],
   "source": [
    "#here we will insert all the records into es index\n",
    "for record in record_list:\n",
    "    try:\n",
    "        es.index(index=\"all_products\", document=record, id=record[\"ProductID\"])\n",
    "    except Exception as e:\n",
    "        print(e)"
   ]
  },
  {
   "cell_type": "code",
   "execution_count": 133,
   "metadata": {},
   "outputs": [
    {
     "data": {
      "text/plain": [
       "ObjectApiResponse({'count': 500, '_shards': {'total': 1, 'successful': 1, 'skipped': 0, 'failed': 0}})"
      ]
     },
     "execution_count": 133,
     "metadata": {},
     "output_type": "execute_result"
    }
   ],
   "source": [
    "es.count(index=\"all_products\")"
   ]
  },
  {
   "cell_type": "markdown",
   "metadata": {},
   "source": [
    "## Search the data"
   ]
  },
  {
   "cell_type": "code",
   "execution_count": 142,
   "metadata": {},
   "outputs": [
    {
     "ename": "AttributeError",
     "evalue": "'Elasticsearch' object has no attribute 'k'",
     "output_type": "error",
     "traceback": [
      "\u001b[0;31m---------------------------------------------------------------------------\u001b[0m",
      "\u001b[0;31mAttributeError\u001b[0m                            Traceback (most recent call last)",
      "\u001b[1;32m/media/adnan/66f2dbd6-5cbe-49fb-9bc5-7622a4fbc0f5/Sementic_search_es_sbert/indexData.ipynb Cell 21\u001b[0m line \u001b[0;36m1\n\u001b[1;32m      <a href='vscode-notebook-cell:/media/adnan/66f2dbd6-5cbe-49fb-9bc5-7622a4fbc0f5/Sementic_search_es_sbert/indexData.ipynb#X24sZmlsZQ%3D%3D?line=3'>4</a>\u001b[0m query \u001b[39m=\u001b[39m {\n\u001b[1;32m      <a href='vscode-notebook-cell:/media/adnan/66f2dbd6-5cbe-49fb-9bc5-7622a4fbc0f5/Sementic_search_es_sbert/indexData.ipynb#X24sZmlsZQ%3D%3D?line=4'>5</a>\u001b[0m     \u001b[39m\"\u001b[39m\u001b[39mfield\u001b[39m\u001b[39m\"\u001b[39m : \u001b[39m\"\u001b[39m\u001b[39mDescriptionVector\u001b[39m\u001b[39m\"\u001b[39m,  \u001b[39m#we want to apply search on this field\u001b[39;00m\n\u001b[1;32m      <a href='vscode-notebook-cell:/media/adnan/66f2dbd6-5cbe-49fb-9bc5-7622a4fbc0f5/Sementic_search_es_sbert/indexData.ipynb#X24sZmlsZQ%3D%3D?line=5'>6</a>\u001b[0m     \u001b[39m\"\u001b[39m\u001b[39mquery_vector\u001b[39m\u001b[39m\"\u001b[39m : vector_of_input_keyword, \u001b[39m#this is input vector that will apply on DescriptionVectore field\u001b[39;00m\n\u001b[1;32m      <a href='vscode-notebook-cell:/media/adnan/66f2dbd6-5cbe-49fb-9bc5-7622a4fbc0f5/Sementic_search_es_sbert/indexData.ipynb#X24sZmlsZQ%3D%3D?line=6'>7</a>\u001b[0m     \u001b[39m\"\u001b[39m\u001b[39mk\u001b[39m\u001b[39m\"\u001b[39m : \u001b[39m2\u001b[39m,  \u001b[39m#it will return two results, we can increase this according to the requirement\u001b[39;00m\n\u001b[1;32m      <a href='vscode-notebook-cell:/media/adnan/66f2dbd6-5cbe-49fb-9bc5-7622a4fbc0f5/Sementic_search_es_sbert/indexData.ipynb#X24sZmlsZQ%3D%3D?line=7'>8</a>\u001b[0m     \u001b[39m\"\u001b[39m\u001b[39mnum_candidates\u001b[39m\u001b[39m\"\u001b[39m : \u001b[39m500\u001b[39m, \u001b[39m#it will search on 500 documents\u001b[39;00m\n\u001b[1;32m      <a href='vscode-notebook-cell:/media/adnan/66f2dbd6-5cbe-49fb-9bc5-7622a4fbc0f5/Sementic_search_es_sbert/indexData.ipynb#X24sZmlsZQ%3D%3D?line=8'>9</a>\u001b[0m }\n\u001b[1;32m     <a href='vscode-notebook-cell:/media/adnan/66f2dbd6-5cbe-49fb-9bc5-7622a4fbc0f5/Sementic_search_es_sbert/indexData.ipynb#X24sZmlsZQ%3D%3D?line=10'>11</a>\u001b[0m res \u001b[39m=\u001b[39m es\u001b[39m.\u001b[39msearch(index\u001b[39m=\u001b[39m\u001b[39m\"\u001b[39m\u001b[39mall_products\u001b[39m\u001b[39m\"\u001b[39m, knn\u001b[39m=\u001b[39mquery , source\u001b[39m=\u001b[39m[\u001b[39m\"\u001b[39m\u001b[39mProductName\u001b[39m\u001b[39m\"\u001b[39m,\u001b[39m\"\u001b[39m\u001b[39mDescription\u001b[39m\u001b[39m\"\u001b[39m])\n\u001b[0;32m---> <a href='vscode-notebook-cell:/media/adnan/66f2dbd6-5cbe-49fb-9bc5-7622a4fbc0f5/Sementic_search_es_sbert/indexData.ipynb#X24sZmlsZQ%3D%3D?line=11'>12</a>\u001b[0m es\u001b[39m.\u001b[39;49mk\n\u001b[1;32m     <a href='vscode-notebook-cell:/media/adnan/66f2dbd6-5cbe-49fb-9bc5-7622a4fbc0f5/Sementic_search_es_sbert/indexData.ipynb#X24sZmlsZQ%3D%3D?line=12'>13</a>\u001b[0m res[\u001b[39m\"\u001b[39m\u001b[39mhits\u001b[39m\u001b[39m\"\u001b[39m][\u001b[39m\"\u001b[39m\u001b[39mhits\u001b[39m\u001b[39m\"\u001b[39m]\n",
      "\u001b[0;31mAttributeError\u001b[0m: 'Elasticsearch' object has no attribute 'k'"
     ]
    }
   ],
   "source": [
    "input_keyword = \"Blue Shoes\" #user will insert input search \n",
    "vector_of_input_keyword = model.encode(input_keyword) #convert the input of user into vector\n",
    "#now we will pass this vector to elasticsearch\n",
    "query = {\n",
    "    \"field\" : \"DescriptionVector\",  #we want to apply search on this field\n",
    "    \"query_vector\" : vector_of_input_keyword, #this is input vector that will apply on DescriptionVectore field\n",
    "    \"k\" : 2,  #it will return two results, we can increase this according to the requirement\n",
    "    \"num_candidates\" : 500, #it will search on 500 documents\n",
    "}\n",
    "\n",
    "res = es.knn_search(index=\"all_products\", knn=query , source=[\"ProductName\",\"Description\"])\n",
    "es.k\n",
    "res[\"hits\"][\"hits\"]"
   ]
  },
  {
   "cell_type": "code",
   "execution_count": 101,
   "metadata": {},
   "outputs": [],
   "source": [
    "\n",
    "# vector_field = \"DescriptionVector\"\n",
    "\n",
    "# query = {\n",
    "#     \"query\": {\n",
    "#         \"script_score\": {\n",
    "#             \"query\": {\n",
    "#                 \"match_all\": {}\n",
    "#             },\n",
    "#             \"script\": {\n",
    "#                 \"source\": \"cosineSimilarity(params.query_vector, '\" + vector_field + \"') + 1.0\",\n",
    "#                 \"params\": {\n",
    "#                     \"query_vector\": vector_of_input_keyword\n",
    "#                 }\n",
    "#             }\n",
    "#         }\n",
    "#     }\n",
    "# }\n",
    "\n",
    "# response = es.search(index=\"all_products\", body=query, _source=[\"ProductName\", \"Description\"] )\n",
    "# response[\"hits\"][\"hits\"]"
   ]
  },
  {
   "cell_type": "code",
   "execution_count": 96,
   "metadata": {},
   "outputs": [
    {
     "name": "stderr",
     "output_type": "stream",
     "text": [
      "/tmp/ipykernel_147205/4293280868.py:25: ElasticsearchWarning: Elasticsearch built-in security features are not enabled. Without authentication, your cluster could be accessible to anyone. See https://www.elastic.co/guide/en/elasticsearch/reference/7.17/security-minimal-setup.html to enable security.\n",
      "  response = es.search(index=\"all_products\", body=query)\n"
     ]
    },
    {
     "data": {
      "text/plain": [
       "[{'_index': 'all_products',\n",
       "  '_type': '_doc',\n",
       "  '_id': '10018013',\n",
       "  '_score': 1.6860578,\n",
       "  '_source': {'Description': 'A pair of round-toe blue sneakers, has regular styling, lace-up detailTextile upperCushioned footbedTextured and patterned outsoleWarranty: 3 monthsWarranty provided by brand/manufacturer',\n",
       "   'ProductName': 'Puma Men Blue Sneakers'}},\n",
       " {'_index': 'all_products',\n",
       "  '_type': '_doc',\n",
       "  '_id': '10018075',\n",
       "  '_score': 1.6860578,\n",
       "  '_source': {'Description': 'A pair of round-toe blue sneakers, has regular styling, lace-up detailTextile upperCushioned footbedTextured and patterned outsoleWarranty: 3 monthsWarranty provided by brand/manufacturer',\n",
       "   'ProductName': 'Puma Men Blue Sneakers'}},\n",
       " {'_index': 'all_products',\n",
       "  '_type': '_doc',\n",
       "  '_id': '10005997',\n",
       "  '_score': 1.6434796,\n",
       "  '_source': {'Description': 'A pair of round-toe navy blue sneakers, has mid-top styling, lace-up detailLeather upperCushioned footbedTextured and patterned outsoleWarranty: 3 monthsWarranty provided by brand/manufacturer',\n",
       "   'ProductName': 'ID Men Navy Blue Solid Leather Mid-Top Sneakers'}},\n",
       " {'_index': 'all_products',\n",
       "  '_type': '_doc',\n",
       "  '_id': '10018011',\n",
       "  '_score': 1.6422533,\n",
       "  '_source': {'Description': 'A pair of round-toe navy blue & white sneakers, has regular styling, lace-up detailTextile upperCushioned footbedTextured and patterned outsoleWarranty: 3 monthsWarranty provided by brand/manufacturer',\n",
       "   'ProductName': 'Puma Men Navy Blue Sneakers'}},\n",
       " {'_index': 'all_products',\n",
       "  '_type': '_doc',\n",
       "  '_id': '10006087',\n",
       "  '_score': 1.6070518,\n",
       "  '_source': {'Description': 'A pair of round-toe navy blue derbys, has regular styling, lace-up detailLeather upperCushioned footbedTextured and patterned outsoleWarranty: 3 monthsWarranty provided by brand/manufacturer',\n",
       "   'ProductName': 'ID Men Navy Blue Leather Derbys'}},\n",
       " {'_index': 'all_products',\n",
       "  '_type': '_doc',\n",
       "  '_id': '10006045',\n",
       "  '_score': 1.5692377,\n",
       "  '_source': {'Description': 'A pair of round-toe tan brown sneakers, has regular styling, lace-up detailLeather upperCushioned footbedTextured and patterned outsoleWarranty: 3 monthsWarranty provided by brand/manufacturer',\n",
       "   'ProductName': 'ID Men Tan Brown Leather Sneakers'}},\n",
       " {'_index': 'all_products',\n",
       "  '_type': '_doc',\n",
       "  '_id': '10006031',\n",
       "  '_score': 1.5658103,\n",
       "  '_source': {'Description': 'A pair of round-toe brown sneakers, has mid-top styling, lace-up detailLeather upperCushioned footbedTextured and patterned outsoleWarranty: 3 monthsWarranty provided by brand/manufacturer',\n",
       "   'ProductName': 'ID Men Brown Solid Leather Mid-Top Sneakers'}},\n",
       " {'_index': 'all_products',\n",
       "  '_type': '_doc',\n",
       "  '_id': '10007743',\n",
       "  '_score': 1.5645066,\n",
       "  '_source': {'Description': 'A pair of pink pointed toe derbys with cushioned footbed and comfortable lining, has regular styling, lace-up detailSynthetic upperFoam Cushioned footbedTextured outsole with a stacked heelWarranty: 3 months against manufacturing defectsWarranty provided by Brand Owner / Manufacturer',\n",
       "   'ProductName': 'her by invictus Women Pink Solid Cushioned Smart Casual Derbys'}},\n",
       " {'_index': 'all_products',\n",
       "  '_type': '_doc',\n",
       "  '_id': '10001097',\n",
       "  '_score': 1.5557334,\n",
       "  '_source': {'Description': 'A pair of black, blue, and beige open toe heels, has regular styling, backstrap detailSynthetic upper with woven designCushioned footbedTextured and patterned outsole, has a block heel',\n",
       "   'ProductName': 'Beli Women Black & Blue Woven Design Heels'}},\n",
       " {'_index': 'all_products',\n",
       "  '_type': '_doc',\n",
       "  '_id': '10007595',\n",
       "  '_score': 1.5536236,\n",
       "  '_source': {'Description': 'A pair of pointed toe green slip-ons with cushioned footbed, has regular styling, slip-on detailSynthetic Suede upperFoam cushioned footbedTextured and patterned outsole',\n",
       "   'ProductName': 'her by invictus Women Green Cushioned Slip-Ons'}}]"
      ]
     },
     "execution_count": 96,
     "metadata": {},
     "output_type": "execute_result"
    }
   ],
   "source": [
    "\n",
    "\n",
    "# # User input and model encoding\n",
    "# input_keyword = \"Blue Shoes\"  # User will insert input search\n",
    "# vector_of_input_keyword = model.encode(input_keyword)  # Convert the input of user into vector\n",
    "# vector_field = \"DescriptionVector\"\n",
    "\n",
    "# # Define the search query\n",
    "# query = {\n",
    "#     \"_source\": [\"ProductName\", \"Description\"],  # Specify the fields to return\n",
    "#     \"query\": {\n",
    "#         \"script_score\": {\n",
    "#             \"query\": {\n",
    "#                 \"match_all\": {}\n",
    "#             },\n",
    "#             \"script\": {\n",
    "#                 \"source\": \"cosineSimilarity(params.query_vector, '\" + vector_field + \"') + 1.0\",\n",
    "#                 \"params\": {\n",
    "#                     \"query_vector\": vector_of_input_keyword\n",
    "#                 }\n",
    "#             }\n",
    "#         }\n",
    "#     }\n",
    "# }\n",
    "\n",
    "# # Perform the search\n",
    "# response = es.search(index=\"all_products\", body=query)\n",
    "\n",
    "# # Print the hits\n",
    "# response[\"hits\"][\"hits\"]\n"
   ]
  },
  {
   "cell_type": "code",
   "execution_count": 99,
   "metadata": {},
   "outputs": [
    {
     "name": "stderr",
     "output_type": "stream",
     "text": [
      "/tmp/ipykernel_147205/4066566394.py:26: ElasticsearchWarning: Elasticsearch built-in security features are not enabled. Without authentication, your cluster could be accessible to anyone. See https://www.elastic.co/guide/en/elasticsearch/reference/7.17/security-minimal-setup.html to enable security.\n",
      "  response = es.search(index=\"all_products\", body=query)\n"
     ]
    },
    {
     "data": {
      "text/plain": [
       "[{'_index': 'all_products',\n",
       "  '_type': '_doc',\n",
       "  '_id': '10018013',\n",
       "  '_score': 1.6860578,\n",
       "  '_source': {'Description': 'A pair of round-toe blue sneakers, has regular styling, lace-up detailTextile upperCushioned footbedTextured and patterned outsoleWarranty: 3 monthsWarranty provided by brand/manufacturer',\n",
       "   'ProductName': 'Puma Men Blue Sneakers'}},\n",
       " {'_index': 'all_products',\n",
       "  '_type': '_doc',\n",
       "  '_id': '10018075',\n",
       "  '_score': 1.6860578,\n",
       "  '_source': {'Description': 'A pair of round-toe blue sneakers, has regular styling, lace-up detailTextile upperCushioned footbedTextured and patterned outsoleWarranty: 3 monthsWarranty provided by brand/manufacturer',\n",
       "   'ProductName': 'Puma Men Blue Sneakers'}}]"
      ]
     },
     "execution_count": 99,
     "metadata": {},
     "output_type": "execute_result"
    }
   ],
   "source": [
    "\n",
    "\n",
    "# # User input and model encoding\n",
    "# input_keyword = \"Blue Shoes\"  # User will insert input search\n",
    "# vector_of_input_keyword = model.encode(input_keyword)  # Convert the input of user into vector\n",
    "# vector_field = \"DescriptionVector\"\n",
    "\n",
    "# # Define the search query\n",
    "# query = {\n",
    "#     \"size\":2,\n",
    "#     \"_source\": [\"ProductName\", \"Description\"],  # Specify the fields to return\n",
    "#     \"query\": {\n",
    "#         \"script_score\": {\n",
    "#             \"query\": {\n",
    "#                 \"match_all\": {}\n",
    "#             },\n",
    "#             \"script\": {\n",
    "#                 \"source\": \"cosineSimilarity(params.query_vector, '\" + vector_field + \"') + 1.0\",\n",
    "#                 \"params\": {\n",
    "#                     \"query_vector\": vector_of_input_keyword\n",
    "#                 }\n",
    "#             }\n",
    "#         }\n",
    "#     }\n",
    "# }\n",
    "\n",
    "# # Perform the search\n",
    "# response = es.search(index=\"all_products\", body=query)\n",
    "\n",
    "# # Print the hits\n",
    "# response[\"hits\"][\"hits\"]\n"
   ]
  }
 ],
 "metadata": {
  "kernelspec": {
   "display_name": "venv",
   "language": "python",
   "name": "python3"
  },
  "language_info": {
   "codemirror_mode": {
    "name": "ipython",
    "version": 3
   },
   "file_extension": ".py",
   "mimetype": "text/x-python",
   "name": "python",
   "nbconvert_exporter": "python",
   "pygments_lexer": "ipython3",
   "version": "3.9.0"
  },
  "orig_nbformat": 4
 },
 "nbformat": 4,
 "nbformat_minor": 2
}
